{
 "cells": [
  {
   "cell_type": "code",
   "execution_count": 1,
   "id": "b2920ccf",
   "metadata": {},
   "outputs": [],
   "source": [
    "import numpy as np\n",
    "import pandas as pd\n",
    "import pprint, pickle\n",
    "\n",
    "import tensorflow as tf\n",
    "from tensorflow import keras\n",
    "from sklearn.model_selection import train_test_split\n",
    "from matplotlib import pyplot as plt\n",
    "%matplotlib inline"
   ]
  },
  {
   "cell_type": "code",
   "execution_count": 3,
   "id": "c881a314",
   "metadata": {},
   "outputs": [],
   "source": [
    "sequence=[1,1,1,1,1,1,1,1,1]"
   ]
  },
  {
   "cell_type": "code",
   "execution_count": null,
   "id": "dc0942da",
   "metadata": {},
   "outputs": [],
   "source": [
    "\n",
    "\n",
    "data=[]\n",
    "values=[]\n",
    "\n",
    "if sequence[0]==1:\n",
    "    file_T_L = open('feature_vector/left/Time/FV_{}.pkl'.format(i), 'rb')\n",
    "    values_T_L = pickle.load(file_T_L)\n",
    "    values.append(list(values_T_L))\n",
    "    file_T_L.close()\n",
    "    \n",
    "if sequence[0]==1:\n",
    "    file_T_R = open('feature_vector/right/Time/FV_{}.pkl'.format(i), 'rb')\n",
    "    values_T_R = pickle.load(file_T_R)\n",
    "    values.append(list(values_T_R))\n",
    "    file_T_R.close()\n",
    "    \n",
    "if sequence[0]==1:\n",
    "    file_T_F = open('feature_vector/front/Time/FV_{}.pkl'.format(i), 'rb')\n",
    "    values_T_F = pickle.load(file_T_F)\n",
    "    values.append(list(values_T_F))\n",
    "    file_T_F.close()\n",
    "\n",
    "if sequence[0]==1:\n",
    "    file_S_L = open('feature_vector/left/Static/FV_{}.pkl'.format(i), 'rb')\n",
    "    values_S_L = pickle.load(file_S_L)\n",
    "    values.append(list(values_S_L))\n",
    "    file_S_L.close()\n",
    "\n",
    "if sequence[0]==1:\n",
    "    file_S_R = open('feature_vector/right/Static/FV_{}.pkl'.format(i), 'rb')\n",
    "    values_S_R = pickle.load(file_S_R)\n",
    "    values.append(list(values_S_R))\n",
    "    file_S_R.close()\n",
    "\n",
    "if sequence[0]==1:\n",
    "    file_S_F = open('feature_vector/front/Static/FV_{}.pkl'.format(i), 'rb')\n",
    "    values_S_F = pickle.load(file_S_F)\n",
    "    values.append(list(values_S_F))\n",
    "    file_S_F.close()\n",
    "\n",
    "if sequence[0]==1:\n",
    "    file_D_L = open('feature_vector/left/Dynamic/FV_{}.pkl'.format(i), 'rb')\n",
    "    values_D_L = pickle.load(file_D_L)\n",
    "    values.append(list(values_D_L))\n",
    "    file_D_L.close()\n",
    "\n",
    "if sequence[0]==1:\n",
    "    file_D_R = open('feature_vector/right/Dynamic/FV_{}.pkl'.format(i), 'rb')\n",
    "    values_D_R = pickle.load(file_D_R)\n",
    "    values.append(list(values_D_R))\n",
    "    file_D_R.close()\n",
    "\n",
    "if sequence[0]==1:\n",
    "    file_D_F = open('feature_vector/right/Dynamic/FV_{}.pkl'.format(i), 'rb')\n",
    "    values_D_F = pickle.load(file_D_F)\n",
    "    values.append(list(values_D_F))\n",
    "    file_D_F.close()\n",
    "    \n",
    "\n",
    "print(len(values))\n",
    "#values=sameSize(values)\n",
    "data.append(np.array(values))"
   ]
  }
 ],
 "metadata": {
  "kernelspec": {
   "display_name": "Python 3 (ipykernel)",
   "language": "python",
   "name": "python3"
  },
  "language_info": {
   "codemirror_mode": {
    "name": "ipython",
    "version": 3
   },
   "file_extension": ".py",
   "mimetype": "text/x-python",
   "name": "python",
   "nbconvert_exporter": "python",
   "pygments_lexer": "ipython3",
   "version": "3.8.10"
  }
 },
 "nbformat": 4,
 "nbformat_minor": 5
}
